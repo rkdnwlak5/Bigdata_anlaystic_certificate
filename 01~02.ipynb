{
 "cells": [
  {
   "cell_type": "code",
   "execution_count": 1,
   "id": "5a45471b",
   "metadata": {},
   "outputs": [
    {
     "name": "stdout",
     "output_type": "stream",
     "text": [
      "hello world\n"
     ]
    }
   ],
   "source": [
    "print(\"hello world\")"
   ]
  },
  {
   "cell_type": "code",
   "execution_count": 2,
   "id": "af46ca49",
   "metadata": {},
   "outputs": [
    {
     "name": "stdout",
     "output_type": "stream",
     "text": [
      "15\n"
     ]
    }
   ],
   "source": [
    "print(3 + 12)"
   ]
  },
  {
   "cell_type": "code",
   "execution_count": 3,
   "id": "2c089ca4",
   "metadata": {},
   "outputs": [
    {
     "name": "stdout",
     "output_type": "stream",
     "text": [
      "6\n",
      "2\n"
     ]
    }
   ],
   "source": [
    "print(32 // 5)\n",
    "print(32 % 5)"
   ]
  },
  {
   "cell_type": "code",
   "execution_count": 4,
   "id": "0dc4a89d",
   "metadata": {},
   "outputs": [
    {
     "name": "stdout",
     "output_type": "stream",
     "text": [
      "True\n"
     ]
    }
   ],
   "source": [
    "print(22 > 19)"
   ]
  },
  {
   "cell_type": "code",
   "execution_count": 5,
   "id": "d00719ef",
   "metadata": {},
   "outputs": [
    {
     "name": "stdout",
     "output_type": "stream",
     "text": [
      "False\n"
     ]
    }
   ],
   "source": [
    "print(5**3 > 3**5)"
   ]
  },
  {
   "cell_type": "code",
   "execution_count": 6,
   "id": "70f988c9",
   "metadata": {},
   "outputs": [
    {
     "name": "stdout",
     "output_type": "stream",
     "text": [
      "2\n"
     ]
    }
   ],
   "source": [
    "print(254 % 3)"
   ]
  },
  {
   "cell_type": "code",
   "execution_count": 7,
   "id": "1d52705a",
   "metadata": {},
   "outputs": [
    {
     "name": "stdout",
     "output_type": "stream",
     "text": [
      "15\n"
     ]
    }
   ],
   "source": [
    "result = 3 + 12\n",
    "print(result)"
   ]
  },
  {
   "cell_type": "code",
   "execution_count": 8,
   "id": "a9a64224",
   "metadata": {},
   "outputs": [
    {
     "name": "stdout",
     "output_type": "stream",
     "text": [
      "15\n"
     ]
    }
   ],
   "source": [
    "num1 = 3\n",
    "num2 = 12\n",
    "print(num1 + num2)"
   ]
  },
  {
   "cell_type": "code",
   "execution_count": null,
   "id": "113363bf",
   "metadata": {},
   "outputs": [],
   "source": [
    "num1 = 3\n",
    "num2 = 12\n",
    "result = num1 + num2\n",
    "print(result)"
   ]
  },
  {
   "cell_type": "code",
   "execution_count": 17,
   "id": "f00ad912",
   "metadata": {},
   "outputs": [
    {
     "name": "stdout",
     "output_type": "stream",
     "text": [
      "127\n",
      "-321\n",
      "12.376\n",
      "-2.22\n",
      "19\n",
      "29\n",
      "58\n",
      "254\n"
     ]
    }
   ],
   "source": [
    "a = 127\n",
    "b = -321\n",
    "print(a)\n",
    "print(b)\n",
    "\n",
    "c = 12.376\n",
    "d = -2.22\n",
    "print(c)\n",
    "print(d)\n",
    "\n",
    "e = 0o23\n",
    "f = 0o35\n",
    "print(e)\n",
    "print(f)\n",
    "\n",
    "g = 0x3A\n",
    "h = 0xFe\n",
    "print(g)\n",
    "print(h)"
   ]
  },
  {
   "cell_type": "code",
   "execution_count": null,
   "id": "cef0ff35",
   "metadata": {},
   "outputs": [],
   "source": [
    "a = 127\n",
    "b = -321\n",
    "print(hex(a))\n",
    "print(oct(b))\n",
    "\n",
    "e = 0o23\n",
    "f = 0o35\n",
    "print(oct(e))\n",
    "print(hex(f))\n",
    "\n",
    "g = 0x3A\n",
    "h = 0xFe\n",
    "print(hex(g))\n",
    "print(oct(h))"
   ]
  },
  {
   "cell_type": "code",
   "execution_count": 9,
   "id": "7f5f0765",
   "metadata": {},
   "outputs": [
    {
     "name": "stdout",
     "output_type": "stream",
     "text": [
      "hello world\n",
      "hello world\n"
     ]
    }
   ],
   "source": [
    "title1 = 'hello world'\n",
    "title2 = \"hello world\"\n",
    "print(title1)\n",
    "print(title2)"
   ]
  },
  {
   "cell_type": "code",
   "execution_count": 10,
   "id": "67fe6838",
   "metadata": {},
   "outputs": [
    {
     "name": "stdout",
     "output_type": "stream",
     "text": [
      "1 is one\n"
     ]
    }
   ],
   "source": [
    "str1 = \"1\"\n",
    "str2 = \" is one\"\n",
    "print(str1 + str2)"
   ]
  },
  {
   "cell_type": "code",
   "execution_count": null,
   "id": "24935b33",
   "metadata": {},
   "outputs": [],
   "source": [
    "str1 = 1\n",
    "str2 = \" is one\"\n",
    "print(str(str1) + str2)"
   ]
  },
  {
   "cell_type": "code",
   "execution_count": 12,
   "id": "d9a5ba09",
   "metadata": {},
   "outputs": [
    {
     "name": "stdout",
     "output_type": "stream",
     "text": [
      "hello \"w\"world\n"
     ]
    }
   ],
   "source": [
    "print(\"hello \\\"w\\\"world\")"
   ]
  },
  {
   "cell_type": "code",
   "execution_count": 13,
   "id": "dee2a5c9",
   "metadata": {},
   "outputs": [
    {
     "name": "stdout",
     "output_type": "stream",
     "text": [
      "42\n"
     ]
    }
   ],
   "source": [
    "num1 = \"37\"\n",
    "num2 = 5\n",
    "print(int(num1) + num2)"
   ]
  },
  {
   "cell_type": "code",
   "execution_count": 14,
   "id": "37b440bb",
   "metadata": {},
   "outputs": [
    {
     "name": "stdout",
     "output_type": "stream",
     "text": [
      "Hello\n",
      "World\n"
     ]
    }
   ],
   "source": [
    "line = \"Hello\\nWorld\"\n",
    "print(line)"
   ]
  },
  {
   "cell_type": "code",
   "execution_count": null,
   "id": "f1114829",
   "metadata": {},
   "outputs": [],
   "source": [
    "print(\"\\\"What\\\" is your name?\")"
   ]
  },
  {
   "cell_type": "code",
   "execution_count": 15,
   "id": "2ec18b6a",
   "metadata": {},
   "outputs": [
    {
     "name": "stdout",
     "output_type": "stream",
     "text": [
      "Mike is 10 years old.\n"
     ]
    }
   ],
   "source": [
    "age = 10\n",
    "print(\"Mike is \" + str(age) + \" years old.\")"
   ]
  },
  {
   "cell_type": "code",
   "execution_count": null,
   "id": "acc20478",
   "metadata": {},
   "outputs": [],
   "source": [
    "#2\n",
    "num1 = int(input(\"숫자1 ==>\"))\n",
    "num2 = int(input(\"숫자2 ==>\"))\n",
    "\n",
    "#3\n",
    "result1 = num1 + num2\n",
    "result2 = num1 - num2\n",
    "result3 = num1 * num2\n",
    "result4 = num1 / num2\n",
    "\n",
    "#4\n",
    "print(num1 , \"+\" , num2 , \"=\" , result1)\n",
    "print(num1 , \"-\" , num2 , \"=\" , result2)\n",
    "print(num1 , \"*\" , num2 , \"=\" , result3)\n",
    "print(num1 , \"/\" , num2 , \"=\" , result4)"
   ]
  },
  {
   "cell_type": "code",
   "execution_count": null,
   "id": "70331692",
   "metadata": {},
   "outputs": [],
   "source": [
    "#1\n",
    "print(\"## 택배를 보내기 위한 정보를 입력하세요. ##\")\n",
    "\n",
    "personName = input(\"받는 사람 : \")\n",
    "personAddr = input(\"주소 : \")\n",
    "weight = int(input(\"무게(g) : \"))\n",
    "\n",
    "#2\n",
    "print(\"** 받는 사람 ==>\", personName)\n",
    "print(\"** 주소 =>\", personAddr)\n",
    "\n",
    "#3\n",
    "print(\"** 배송비 ==>\", weight*5, \"원\")"
   ]
  },
  {
   "cell_type": "code",
   "execution_count": null,
   "id": "74fbaaba",
   "metadata": {},
   "outputs": [],
   "source": [
    "num1 = int(input(\"나눠지는 수 ==> \"))\n",
    "num2 = int(input(\"나누는 수 ==> \"))\n",
    "\n",
    "q = num1 // num2\n",
    "r = num1 % num2\n",
    "\n",
    "print(num1, '을(를)', num2, '(으)로 나눈 몫은 ', q, '입니다.')\n",
    "print(num1, '을(를)', num2, '(으)로 나눈 나머지는 ', r, '입니다.')"
   ]
  },
  {
   "cell_type": "code",
   "execution_count": 18,
   "id": "ab6c9ea5",
   "metadata": {},
   "outputs": [
    {
     "name": "stdout",
     "output_type": "stream",
     "text": [
      "파운드(lb)를 입력하세요 : 100\n",
      "100 파운드(lb)는 45.3592 킬로그램(kb)입니다\n",
      "킬로그램(kg)을 입력하세요 : 50\n",
      "50 킬로그램(kg)은 110.23115000000001  파운드(lb)입니다\n"
     ]
    }
   ],
   "source": [
    "#1\n",
    "pound = int(input(\"파운드(lb)를 입력하세요 : \"))\n",
    "kg = pound * 0.453592\n",
    "print( pound, \"파운드(lb)는\", kg ,\"킬로그램(kb)입니다\")\n",
    "\n",
    "#2\n",
    "kg = int(input(\"킬로그램(kg)을 입력하세요 : \"))\n",
    "pound = kg * 2.204623\n",
    "print( kg, \"킬로그램(kg)은\", pound ,\" 파운드(lb)입니다\")"
   ]
  },
  {
   "cell_type": "code",
   "execution_count": null,
   "id": "f4ec0b99",
   "metadata": {},
   "outputs": [],
   "source": []
  }
 ],
 "metadata": {
  "kernelspec": {
   "display_name": "Python 3 (ipykernel)",
   "language": "python",
   "name": "python3"
  },
  "language_info": {
   "codemirror_mode": {
    "name": "ipython",
    "version": 3
   },
   "file_extension": ".py",
   "mimetype": "text/x-python",
   "name": "python",
   "nbconvert_exporter": "python",
   "pygments_lexer": "ipython3",
   "version": "3.10.9"
  }
 },
 "nbformat": 4,
 "nbformat_minor": 5
}

{
 "cells": [
  {
   "cell_type": "code",
   "execution_count": 1,
   "id": "afe61055",
   "metadata": {},
   "outputs": [
    {
     "name": "stdout",
     "output_type": "stream",
     "text": [
      "('kim', 'lee', 'park', 'choi', 'jung')\n"
     ]
    }
   ],
   "source": [
    "names = (\"kim\", \"lee\", \"park\", \"choi\", \"jung\")\n",
    "print(names)"
   ]
  },
  {
   "cell_type": "code",
   "execution_count": 2,
   "id": "56cc40a0",
   "metadata": {},
   "outputs": [
    {
     "name": "stdout",
     "output_type": "stream",
     "text": [
      "kim 3000 23.22 True\n",
      "('kim', 'lee', 'park', 'choi', 'jung')\n",
      "kim\n",
      "lee\n",
      "park\n",
      "choi\n"
     ]
    }
   ],
   "source": [
    "print(\"kim\", 3000, 23.22, True)\n",
    "print(names)\n",
    "print(names[0])\n",
    "print(names[1])\n",
    "print(names[2])\n",
    "print(names[3])"
   ]
  },
  {
   "cell_type": "code",
   "execution_count": 3,
   "id": "daa94c14",
   "metadata": {},
   "outputs": [
    {
     "name": "stdout",
     "output_type": "stream",
     "text": [
      "kim\n",
      "23\n",
      "lee\n",
      "33\n"
     ]
    }
   ],
   "source": [
    "people = ((\"kim\", 23), (\"lee\", 33))\n",
    "print(people[0][0])\n",
    "print(people[0][1])\n",
    "print(people[1][0])\n",
    "print(people[1][1])"
   ]
  },
  {
   "cell_type": "code",
   "execution_count": 4,
   "id": "375c4439",
   "metadata": {},
   "outputs": [
    {
     "name": "stdout",
     "output_type": "stream",
     "text": [
      "2\n",
      "2\n",
      "2\n"
     ]
    }
   ],
   "source": [
    "people = ((\"kim\", 23), (\"lee\", 33))\n",
    "print(len(people))\n",
    "print(len(people[0]))\n",
    "print(len(people[1]))"
   ]
  },
  {
   "cell_type": "code",
   "execution_count": 5,
   "id": "813fd777",
   "metadata": {},
   "outputs": [
    {
     "name": "stdout",
     "output_type": "stream",
     "text": [
      "2\n",
      "3\n"
     ]
    }
   ],
   "source": [
    "names = (\"kim\", \"lee\", \"kim\", \"park\")\n",
    "print(names.count(\"kim\"))\n",
    "print(names.index(\"park\"))"
   ]
  },
  {
   "cell_type": "code",
   "execution_count": 7,
   "id": "ed335c40",
   "metadata": {},
   "outputs": [
    {
     "name": "stdout",
     "output_type": "stream",
     "text": [
      "5000\n"
     ]
    }
   ],
   "source": [
    "prices = (1000, 2000, 3000, 4000, 5000)\n",
    "#print(price[1] + price[2])\n",
    "\n",
    "price1 = prices[1]\n",
    "price2 = prices[2]\n",
    "sum = price1 + price2\n",
    "print(sum)"
   ]
  },
  {
   "cell_type": "code",
   "execution_count": 8,
   "id": "556c3b07",
   "metadata": {},
   "outputs": [
    {
     "name": "stdout",
     "output_type": "stream",
     "text": [
      "('grape', 2000)\n",
      "2000\n"
     ]
    }
   ],
   "source": [
    "fruits = ((\"apple\", 1500), (\"grape\", 2000), (\"pineapple\", 3000))\n",
    "print(fruits[1])\n",
    "print(fruits[1][1])"
   ]
  },
  {
   "cell_type": "code",
   "execution_count": 9,
   "id": "667373b7",
   "metadata": {},
   "outputs": [
    {
     "name": "stdout",
     "output_type": "stream",
     "text": [
      "['kim', 'lee', 'park', 'choi', 'jung']\n"
     ]
    }
   ],
   "source": [
    "names = [\"kim\", \"lee\", \"park\", \"choi\", \"jung\"]\n",
    "print(names)"
   ]
  },
  {
   "cell_type": "code",
   "execution_count": 10,
   "id": "b2d4ec65",
   "metadata": {},
   "outputs": [
    {
     "name": "stdout",
     "output_type": "stream",
     "text": [
      "Kim\n",
      "Choi\n"
     ]
    }
   ],
   "source": [
    "names = [\"Kim\", \"Lee\", \"Kim\", \"Park\"]\n",
    "\n",
    "print(names[2])\n",
    "names[2] = \"Choi\"\n",
    "print(names[2])"
   ]
  },
  {
   "cell_type": "code",
   "execution_count": null,
   "id": "729a1e39",
   "metadata": {},
   "outputs": [],
   "source": [
    "prices = (1000, 2000, 3000, 4000, 5000)\n",
    "print(prices[1] + prices[2])\n",
    "\n",
    "price1 = prices[1]\n",
    "price2 = prices[2]\n",
    "sum = price1 + price2\n",
    "print(sum)"
   ]
  },
  {
   "cell_type": "code",
   "execution_count": 11,
   "id": "118d1b55",
   "metadata": {},
   "outputs": [
    {
     "name": "stdout",
     "output_type": "stream",
     "text": [
      "{'list': [1, 2, 3], 1: 'ONE', 'name': 'Choi', 'age': 30}\n"
     ]
    }
   ],
   "source": [
    "dictionary = {\"list\": [1, 2, 3], 1: \"ONE\", \"name\": \"Choi\", \"age\": 30}\n",
    "print(dictionary)"
   ]
  },
  {
   "cell_type": "code",
   "execution_count": 13,
   "id": "a4b21beb",
   "metadata": {},
   "outputs": [
    {
     "name": "stdout",
     "output_type": "stream",
     "text": [
      "{'name': 'Choi', 'height': 180, 'weight': 75, 'age': 30}\n"
     ]
    }
   ],
   "source": [
    "users = {\"name\": \"Choi\", \"height\": 180, \"weight\": 75}\n",
    "users[\"age\"] = 30\n",
    "print(users)"
   ]
  },
  {
   "cell_type": "code",
   "execution_count": 14,
   "id": "c939ef29",
   "metadata": {},
   "outputs": [
    {
     "name": "stdout",
     "output_type": "stream",
     "text": [
      "{'name': 'Choi', 'height': 180, 'age': 30}\n"
     ]
    }
   ],
   "source": [
    "users = {\"name\": \"Choi\", \"height\": 180, \"weight\": 75, \"age\": 30}\n",
    "del users[\"weight\"]\n",
    "print(users)"
   ]
  },
  {
   "cell_type": "code",
   "execution_count": 15,
   "id": "3c566cbd",
   "metadata": {},
   "outputs": [
    {
     "name": "stdout",
     "output_type": "stream",
     "text": [
      "{'name': 'Choi', 'height': 179.5, 'age': 30}\n"
     ]
    }
   ],
   "source": [
    "users = {\"name\": \"Choi\", \"height\": 180, \"age\": 30}\n",
    "users[\"height\"] = 179.5\n",
    "print(users)"
   ]
  },
  {
   "cell_type": "code",
   "execution_count": 16,
   "id": "f8028d13",
   "metadata": {},
   "outputs": [
    {
     "name": "stdout",
     "output_type": "stream",
     "text": [
      "2500\n"
     ]
    }
   ],
   "source": [
    "fruits = {\"apple\": 1000, \"banana\": 1500, \"pineapple\": 2000}\n",
    "price1 = fruits[\"apple\"]\n",
    "price2 = fruits[\"banana\"]\n",
    "sum = price1 + price2\n",
    "print(sum)"
   ]
  },
  {
   "cell_type": "code",
   "execution_count": null,
   "id": "08a0b6b2",
   "metadata": {},
   "outputs": [],
   "source": [
    "fruits = {\"apple\": 1000, \"banana\": 1500, \"pineapple\": 2000}\n",
    "fruits[\"pineapple\"] = 3000\n",
    "print(fruits)"
   ]
  },
  {
   "cell_type": "code",
   "execution_count": 26,
   "id": "04c97bbd",
   "metadata": {},
   "outputs": [
    {
     "name": "stdout",
     "output_type": "stream",
     "text": [
      "[1000, 1500, 2000]\n"
     ]
    }
   ],
   "source": [
    "fruits = {\"apple\": 1000, \"banana\": 1500, \"pineapple\": 2000}\n",
    "fruits_list = list(fruits.values())\n",
    "print(fruits_list)"
   ]
  },
  {
   "cell_type": "code",
   "execution_count": 19,
   "id": "09fd0761",
   "metadata": {},
   "outputs": [
    {
     "name": "stdout",
     "output_type": "stream",
     "text": [
      "{'가은': {88, 97, 82}, '나영': {82, 92, 87}, '다래': {84, 77, 94}}\n"
     ]
    }
   ],
   "source": [
    "scores = {}\n",
    "scores[\"가은\"] = {82, 97, 88}\n",
    "scores[\"나영\"] = {92, 87, 82}\n",
    "scores[\"다래\"] = {84, 77, 94}\n",
    "print(scores)"
   ]
  },
  {
   "cell_type": "code",
   "execution_count": 24,
   "id": "0d625c6e",
   "metadata": {},
   "outputs": [
    {
     "data": {
      "text/plain": [
       "[82, 97, 88]"
      ]
     },
     "execution_count": 24,
     "metadata": {},
     "output_type": "execute_result"
    }
   ],
   "source": [
    "scores = {\"가은\": [82, 97, 88], \"나영\": [92, 87, 82], \"다래\": [84, 77, 94]}\n",
    "scores1 = scores[\"가은\"]\n",
    "scores1"
   ]
  },
  {
   "cell_type": "code",
   "execution_count": 23,
   "id": "fb1ee381",
   "metadata": {},
   "outputs": [
    {
     "name": "stdout",
     "output_type": "stream",
     "text": [
      "국어 평균 점수 :  86.0\n",
      "영어 평균 점수 :  87.0\n",
      "수학 평균 점수 :  88.0\n"
     ]
    }
   ],
   "source": [
    "scores = {\"가은\": [82, 97, 88], \"나영\": [92, 87, 82], \"다래\": [84, 77, 94]}\n",
    "scores_list = list(scores.values())\n",
    "kor = scores_list[0][0] + scores_list[1][0] + scores_list[2][0]\n",
    "eng = scores_list[0][1] + scores_list[1][1] + scores_list[2][1]\n",
    "mat = scores_list[0][2] + scores_list[1][2] + scores_list[2][2]\n",
    "print(\"국어 평균 점수 : \", kor / 3)\n",
    "print(\"영어 평균 점수 : \", eng / 3)\n",
    "print(\"수학 평균 점수 : \", mat / 3)"
   ]
  },
  {
   "cell_type": "code",
   "execution_count": null,
   "id": "63b754ed",
   "metadata": {},
   "outputs": [],
   "source": []
  }
 ],
 "metadata": {
  "kernelspec": {
   "display_name": "Python 3 (ipykernel)",
   "language": "python",
   "name": "python3"
  },
  "language_info": {
   "codemirror_mode": {
    "name": "ipython",
    "version": 3
   },
   "file_extension": ".py",
   "mimetype": "text/x-python",
   "name": "python",
   "nbconvert_exporter": "python",
   "pygments_lexer": "ipython3",
   "version": "3.10.9"
  }
 },
 "nbformat": 4,
 "nbformat_minor": 5
}

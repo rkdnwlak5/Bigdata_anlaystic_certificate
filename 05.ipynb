{
 "cells": [
  {
   "cell_type": "code",
   "execution_count": 1,
   "id": "c424ae36",
   "metadata": {},
   "outputs": [
    {
     "name": "stdout",
     "output_type": "stream",
     "text": [
      "6\n"
     ]
    }
   ],
   "source": [
    "import numpy\n",
    "\n",
    "number = [1, 2, 3]\n",
    "sum = numpy.sum(number)\n",
    "\n",
    "print(sum)"
   ]
  },
  {
   "cell_type": "code",
   "execution_count": 10,
   "id": "b95e4c67",
   "metadata": {},
   "outputs": [
    {
     "name": "stdout",
     "output_type": "stream",
     "text": [
      "57.8\n"
     ]
    }
   ],
   "source": [
    "import numpy\n",
    "\n",
    "score = [88, 76, 56, 45, 24]\n",
    "average = numpy.average(score)\n",
    "\n",
    "print(average)"
   ]
  },
  {
   "cell_type": "code",
   "execution_count": 6,
   "id": "883be3b8",
   "metadata": {},
   "outputs": [
    {
     "name": "stdout",
     "output_type": "stream",
     "text": [
      "최소값 : 20\n",
      "최대값 : 77\n",
      "표준편차 : 20.722873835450525\n"
     ]
    }
   ],
   "source": [
    "import numpy\n",
    "\n",
    "score = [20, 23, 45, 33, 77, 66, 26, 64]\n",
    "\n",
    "number_min = numpy.min(score)\n",
    "number_max = numpy.max(score)\n",
    "number_stddev = numpy.std(score)\n",
    "\n",
    "print(\"최소값 : \" + str(number_min))\n",
    "print(\"최대값 : \" + str(number_max))\n",
    "print(\"표준편차 : \" + str(number_stddev))"
   ]
  },
  {
   "cell_type": "code",
   "execution_count": 15,
   "id": "1b01bfa5",
   "metadata": {},
   "outputs": [
    {
     "name": "stdout",
     "output_type": "stream",
     "text": [
      "리스트 원소 : [99, 57, 98, 87, 21, 80, 83, 27, 22, 38, 55, 8, 39, 33, 5, 79, 70, 61, 60, 17]\n",
      "리스트 합계 : 1039\n",
      "리스트 평균 : 51.95\n",
      "리스트 최소 : 5\n",
      "리스트 최대 : 99\n",
      "리스트 표준편차 : 29.248034121971344\n"
     ]
    }
   ],
   "source": [
    "# 04_예제5-1_코드\n",
    "import numpy\n",
    "import random\n",
    "\n",
    "values = random.sample(range(100), 20)\n",
    "\n",
    "sum = numpy.sum(values)\n",
    "average = numpy.average(values)\n",
    "min = numpy.min(values)\n",
    "max = numpy.max(values)\n",
    "stddev = numpy.std(values)\n",
    "\n",
    "print(\"리스트 원소 : \" + str(values))\n",
    "print(\"리스트 합계 : \" + str(sum))\n",
    "print(\"리스트 평균 : \" + str(average))\n",
    "print(\"리스트 최소 : \" + str(min))\n",
    "print(\"리스트 최대 : \" + str(max))\n",
    "print(\"리스트 표준편차 : \" + str(stddev))"
   ]
  },
  {
   "cell_type": "code",
   "execution_count": 16,
   "id": "b10486f9",
   "metadata": {},
   "outputs": [
    {
     "name": "stdout",
     "output_type": "stream",
     "text": [
      "월별 수입액 : [2323000, 2702000, 2234000, 3001000, 3023000, 2623100]\n",
      "수입액 합계/최소/최대/평균/표준편차 : 15906100/2234000/3023000/2651016.6666666665/301589.2373005966\n",
      "월별 지출액 : [1230000, 1402530, 904000, 1123300, 1007000, 1805000]\n",
      "지출액 합계/최소/최대/평균/표준편차 : 7471830/904000/1805000/1245305.0/296191.38878716016\n",
      "월별 저축액 : [1093000, 1299470, 1330000, 1877700, 2016000, 818100]\n",
      "저축액 합계/최소/최대/평균/표준편차 : 8434270/818100/2016000/1405711.6666666667/419388.5314922455\n"
     ]
    }
   ],
   "source": [
    "#04_예제5-2_코드\n",
    "import numpy\n",
    "\n",
    "income = [2323000, 2702000, 2234000, 3001000, 3023000, 2623100]\n",
    "spending = [1230000, 1402530, 904000, 1123300, 1007000, 1805000]\n",
    "\n",
    "saving = []\n",
    "for i in range(0, len(income)):\n",
    "  saving.append(income[i]-spending[i])\n",
    "\n",
    "print(\"월별 수입액 : \" + str(income))\n",
    "print(\"수입액 합계/최소/최대/평균/표준편차 : \" + str(numpy.sum(income)) + \"/\" + str(numpy.min(income)) +\n",
    "      \"/\" + str(numpy.max(income)) + \"/\" + str(numpy.average(income)) + \"/\" + str(numpy.std(income)))\n",
    "\n",
    "print(\"월별 지출액 : \" + str(spending))\n",
    "print(\"지출액 합계/최소/최대/평균/표준편차 : \" + str(numpy.sum(spending)) + \"/\" + str(numpy.min(spending)) +\n",
    "      \"/\" + str(numpy.max(spending)) + \"/\" + str(numpy.average(spending)) + \"/\" + str(numpy.std(spending)))\n",
    "\n",
    "print(\"월별 저축액 : \" + str(saving))\n",
    "print(\"저축액 합계/최소/최대/평균/표준편차 : \" + str(numpy.sum(saving)) + \"/\" + str(numpy.min(saving)) +\n",
    "      \"/\" + str(numpy.max(saving)) + \"/\" + str(numpy.average(saving)) + \"/\" + str(numpy.std(saving)))"
   ]
  },
  {
   "cell_type": "code",
   "execution_count": null,
   "id": "149c2b5b",
   "metadata": {},
   "outputs": [],
   "source": [
    "#04_예제5-3_코드1\n",
    "def printRepeatedly(text, n):\n",
    "  for i in range(0, n):\n",
    "    print(text)\n",
    "    \n",
    "if __name__ == '__main__':\n",
    "  inputStr = input()\n",
    "  number = int(input())\n",
    "  printRepeatedly(inputStr, number)"
   ]
  },
  {
   "cell_type": "code",
   "execution_count": null,
   "id": "c8bff699",
   "metadata": {},
   "outputs": [],
   "source": [
    "#04_예제5-3_코드2\n",
    "def printRepeatedly():\n",
    "  text = input()\n",
    "  number = int(input())\n",
    "  for i in range(0, number):\n",
    "    print(text)\n",
    "    \n",
    "if __name__ == '__main__':\n",
    "  printRepeatedly()"
   ]
  },
  {
   "cell_type": "code",
   "execution_count": null,
   "id": "9e6a1c97",
   "metadata": {},
   "outputs": [],
   "source": [
    "#04_예제5-4_코드\n",
    "def showMultiplicationTable():\n",
    "  num = int(input())\n",
    "  for i in range(2, 10):\n",
    "    print(str(num) + \" X \" + str(i) + \" = \" + str(num * i))\n",
    "\n",
    "if __name__ == '__main__':\n",
    "  showMultiplicationTable()"
   ]
  },
  {
   "cell_type": "code",
   "execution_count": null,
   "id": "436db27d",
   "metadata": {},
   "outputs": [],
   "source": [
    "class classPractice:\n",
    "  name = \"클래스 연습\"\n",
    "  def printTest(self):\n",
    "    print(\"클래스 연습\")"
   ]
  },
  {
   "cell_type": "code",
   "execution_count": null,
   "id": "62ff7bee",
   "metadata": {},
   "outputs": [],
   "source": [
    "class classPractice:\n",
    "  name = \"클래스 연습\"\n",
    "  def printTest(self):\n",
    "    print(\"클래스 연습\")\n",
    "\n",
    "if __name__ == '__main__':\n",
    "  classPrac = classPractice()\n",
    "  classPrac.printTest()"
   ]
  },
  {
   "cell_type": "code",
   "execution_count": null,
   "id": "eeec5ea3",
   "metadata": {},
   "outputs": [],
   "source": [
    "class classPractice:\n",
    "  name = \"클래스 연습\"\n",
    "  \n",
    "  def __init__(self):\n",
    "    print(\"클래스 생성자 호출\")\n",
    "\n",
    "  def printTest(self):\n",
    "    print(\"클래스 연습\")\n",
    "  \n",
    "if __name__ == '__main__':\n",
    "  classPrac = classPractice()"
   ]
  },
  {
   "cell_type": "code",
   "execution_count": null,
   "id": "664476f3",
   "metadata": {},
   "outputs": [],
   "source": [
    "class classPractice:\n",
    "  name = \"클래스 연습\"\n",
    "  \n",
    "  def __init__(self):\n",
    "    print(\"클래스 생성자 호출\")\n",
    "\n",
    "  def __del__(self):\n",
    "    print(\"클래스 소멸자 호출\")\n",
    "\n",
    "  def printTest(self):\n",
    "    print(\"클래스 연습\")\n",
    "  \n",
    "if __name__ == '__main__':\n",
    "  classPrac = classPractice()\n",
    "  del classPrac"
   ]
  },
  {
   "cell_type": "code",
   "execution_count": null,
   "id": "ffed068a",
   "metadata": {},
   "outputs": [],
   "source": [
    "class userTestClass:\n",
    "  name = \"클래스 연습\"\n",
    "\n",
    "  def testFunc1(self):\n",
    "    print(\"테스트 함수1\")\n",
    "  \n",
    "  def testFunc2(self):\n",
    "    print(\"테스트 함수2\")\n",
    "    self.testFunc1()\n",
    "  \n",
    "if __name__ == '__main__':\n",
    "  testClass = userTestClass()\n",
    "  testClass.testFunc1()"
   ]
  },
  {
   "cell_type": "code",
   "execution_count": null,
   "id": "cb1e9cf2",
   "metadata": {},
   "outputs": [],
   "source": [
    "class userTestClass:\n",
    "  name = \"클래스 연습\"\n",
    "\n",
    "  def testFunc1(self):\n",
    "    print(\"테스트 함수1\")\n",
    "  \n",
    "  def testFunc2(self):\n",
    "    print(\"테스트 함수2\")\n",
    "    self.testFunc1()\n",
    "  \n",
    "if __name__ == '__main__':\n",
    "  testClass = userTestClass()\n",
    "  testClass.testFunc2()"
   ]
  },
  {
   "cell_type": "code",
   "execution_count": null,
   "id": "2b953cc5",
   "metadata": {},
   "outputs": [],
   "source": [
    "class classPerson:\n",
    "  name = \"클래스 연습\"\n",
    "\n",
    "if __name__ == '__main__':\n",
    "  person = classPerson()\n",
    "  print(person.name)"
   ]
  },
  {
   "cell_type": "code",
   "execution_count": null,
   "id": "e1244ee8",
   "metadata": {},
   "outputs": [],
   "source": [
    "class classPerson:\n",
    "  name = \"\"\n",
    "  age = 0\n",
    "  height = 0.0\n",
    "  \n",
    "  def __init__(self, name, age, height):\n",
    "    print(\"클래스 생성자 호출\")\n",
    "    self.name = name\n",
    "    self.age = age\n",
    "    self.height = height\n",
    "  \n",
    "  def showInformation(self):\n",
    "    line = str(self.name) + \" | \" + str(self.age) + \" | \" + str(self.height)\n",
    "    print(line)\n",
    "\n",
    "if __name__ == '__main__':\n",
    "  person1 = classPerson(\"홍길동\", 25, 175.5)\n",
    "  person1.showInformation()\n",
    "  person2 = classPerson(\"김철수\", 27, 179.5)\n",
    "  person2.showInformation()"
   ]
  },
  {
   "cell_type": "code",
   "execution_count": null,
   "id": "8b2be9a4",
   "metadata": {},
   "outputs": [],
   "source": [
    "class classPerson:\n",
    "  name = \"\"\n",
    "  age = 0\n",
    "  height = 0.0\n",
    "  \n",
    "  def __init__(self, name, age, height):\n",
    "    self.name = name\n",
    "    self.age = age\n",
    "    self.height = height\n",
    "  \n",
    "  def showInformation(self):\n",
    "    line = str(self.name) + \" | \" + str(self.age) + \" | \" + str(self.height)\n",
    "    print(line)\n",
    "  \n",
    "  def setName(self, name):\n",
    "    self.name = name\n",
    "  \n",
    "  def getName(self):\n",
    "    return self.name\n",
    "\n",
    "if __name__ == '__main__':\n",
    "  person1 = classPerson(\"홍길동\", 25, 175.5)\n",
    "  person1.showInformation()\n",
    "  person1.setName(\"김영수\")\n",
    "  print(person1.getName())"
   ]
  },
  {
   "cell_type": "code",
   "execution_count": null,
   "id": "b6f9b92f",
   "metadata": {},
   "outputs": [],
   "source": [
    "# 18_예제5-5_코드\n",
    "class userCalculation:\n",
    "  name = \"연산하는 클래스\"\n",
    "  \n",
    "  def __init__(self):\n",
    "    print(\"연산 클래스 생성자 호출\")\n",
    "  \n",
    "  def execPlus(self, num1, num2):\n",
    "    return num1 + num2\n",
    "  \n",
    "  def execMinus(self, num1, num2):\n",
    "    return num1 - num2\n",
    "\n",
    "  def execMultiply(self, num1, num2):\n",
    "    return num1 * num2\n",
    "\n",
    "  def execDivide(self, num1, num2):\n",
    "    if num2 != 0:\n",
    "      return num1 / num2\n",
    "    else:\n",
    "      print(\"can't divide by 0\")\n",
    "      return 0\n",
    "\n",
    "  def executeCalculation(self):\n",
    "    num1 = float(input())\n",
    "    operator = input()\n",
    "    num2 = float(input())\n",
    "\n",
    "    if operator == \"+\":\n",
    "      result = self.execPlus(num1, num2)\n",
    "    elif operator == \"-\":\n",
    "      result = self.execMinus(num1, num2)\n",
    "    elif operator == \"*\":\n",
    "      result = self.execMultiply(num1, num2)\n",
    "    elif operator == \"/\":\n",
    "      result = self.execDivide(num1, num2)\n",
    "    else:\n",
    "      print(\"Error\")\n",
    "    \n",
    "    print(result)\n",
    "    return num1, operator, num2\n",
    "\n",
    "  def __del__(self):\n",
    "    print(\"연산 클래스 소멸자 호출\")\n",
    "  \n",
    "if __name__ == '__main__':\n",
    "  cal = userCalculation()\n",
    "  num1, operator, num2 = cal.executeCalculation()\n"
   ]
  },
  {
   "cell_type": "code",
   "execution_count": null,
   "id": "f40c4bb5",
   "metadata": {},
   "outputs": [],
   "source": [
    "# 18_예제5-6_코드\n",
    "class productPrice:\n",
    "  milkPrice = 0\n",
    "  cokePrice = 0\n",
    "  \n",
    "  def __init__(self, milkPrice, cokePrice):\n",
    "    self.milkPrice = milkPrice\n",
    "    self.cokePrice = cokePrice\n",
    "  \n",
    "  def setMilkPrice(self, milkPrice):\n",
    "    self.milkPrice = milkPrice\n",
    "  \n",
    "  def getMilkPrice(self):\n",
    "    return self.milkPrice\n",
    "\n",
    "  def setCokePrice(cokePrice):\n",
    "    self.cokePrice = cokePrice\n",
    "  \n",
    "  def getCokePrice(self):\n",
    "    return self.cokePrice\n",
    "  \n",
    "  def getTotalPrice(self, numOfMilk, numOfCoke):\n",
    "    return (self.milkPrice * numOfMilk) + (self.cokePrice * numOfCoke)\n",
    "\n",
    "if __name__ == '__main__':\n",
    "  pp = productPrice(2100, 1500)\n",
    "  print(pp.getTotalPrice(3, 2))"
   ]
  },
  {
   "cell_type": "code",
   "execution_count": null,
   "id": "026006dc",
   "metadata": {},
   "outputs": [],
   "source": [
    "# 18_예제5-7_코드\n",
    "class subjectScore:\n",
    "  koreanScore = 0\n",
    "  englishScore = 0\n",
    "  mathScore = 0\n",
    "\n",
    "  def __init__(self, koreanScore, englishScore, mathScore):\n",
    "    self.koreanScore = koreanScore\n",
    "    self.englishScore = englishScore\n",
    "    self.mathScore = mathScore\n",
    "  \n",
    "  def setKoreanScore(self, koreanScore):\n",
    "    self.koreanScore = koreanScore\n",
    "  \n",
    "  def getKoreanScore(self):\n",
    "    return self.koreanScore\n",
    "\n",
    "  def setEnglishScore(self, englishScore):\n",
    "    self.englishScore = englishScore\n",
    "  \n",
    "  def getEnglishScore(self):\n",
    "    return self.englishScore\n",
    "  \n",
    "  def setMathScore(self, mathScore):\n",
    "    self.mathScore = mathScore\n",
    "  \n",
    "  def getMathScore(self):\n",
    "    return self.mathScore\n",
    "\n",
    "  def getAverageScore(self):\n",
    "    return (self.koreanScore + self.englishScore + self.mathScore) / 3\n",
    "\n",
    "if __name__ == '__main__':\n",
    "  score = subjectScore(65, 70, 80)\n",
    "  print(score.getAverageScore())\n"
   ]
  }
 ],
 "metadata": {
  "kernelspec": {
   "display_name": "Python 3 (ipykernel)",
   "language": "python",
   "name": "python3"
  },
  "language_info": {
   "codemirror_mode": {
    "name": "ipython",
    "version": 3
   },
   "file_extension": ".py",
   "mimetype": "text/x-python",
   "name": "python",
   "nbconvert_exporter": "python",
   "pygments_lexer": "ipython3",
   "version": "3.10.9"
  }
 },
 "nbformat": 4,
 "nbformat_minor": 5
}

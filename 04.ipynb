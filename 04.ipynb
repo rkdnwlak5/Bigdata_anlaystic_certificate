{
 "cells": [
  {
   "cell_type": "code",
   "execution_count": 2,
   "id": "3eeb48b4",
   "metadata": {},
   "outputs": [
    {
     "name": "stdout",
     "output_type": "stream",
     "text": [
      "참 잘했어요!\n"
     ]
    }
   ],
   "source": [
    "readPercentageOfBook = 30\n",
    "if readPercentageOfBook == 30:\n",
    "  print(\"참 잘했어요!\")"
   ]
  },
  {
   "cell_type": "code",
   "execution_count": null,
   "id": "3a20caf9",
   "metadata": {},
   "outputs": [],
   "source": [
    "readPercentageOfBook = 100\n",
    "if readPercentageOfBook == 100:\n",
    "  print(\"참 잘했어요!\")"
   ]
  },
  {
   "cell_type": "code",
   "execution_count": 7,
   "id": "51470a4d",
   "metadata": {},
   "outputs": [
    {
     "name": "stdout",
     "output_type": "stream",
     "text": [
      "역시 당신은 똑똑해\n"
     ]
    }
   ],
   "source": [
    "readPercentageOfBook = 100\n",
    "if readPercentageOfBook == 30:\n",
    "  print(\"참 잘했어요!\")\n",
    "  print(\"책을 한 번 더 읽어볼래요?\")\n",
    "print(\"역시 당신은 똑똑해\")"
   ]
  },
  {
   "cell_type": "code",
   "execution_count": 8,
   "id": "6b785360",
   "metadata": {},
   "outputs": [
    {
     "name": "stdout",
     "output_type": "stream",
     "text": [
      "좀 더 노력하세요!\n"
     ]
    }
   ],
   "source": [
    "score = 80\n",
    "\n",
    "if score == 100:\n",
    "  print(\"Perfect\")\n",
    "elif score == 90:\n",
    "  print(\"OK\")\n",
    "elif score == 80:\n",
    "  print(\"좀 더 노력하세요!\")"
   ]
  },
  {
   "cell_type": "code",
   "execution_count": null,
   "id": "86cb4981",
   "metadata": {},
   "outputs": [],
   "source": [
    "score = 80\n",
    "\n",
    "if score == 100:\n",
    "  print(\"Perfect\")\n",
    "elif score == 90:\n",
    "  print(\"OK\")\n",
    "else:\n",
    "  print(\"좀 더 노력하세요!\")"
   ]
  },
  {
   "cell_type": "code",
   "execution_count": null,
   "id": "1ab986e3",
   "metadata": {},
   "outputs": [],
   "source": [
    "score = 60\n",
    "\n",
    "if score == 100:\n",
    "  print(\"Perfect\")\n",
    "elif score == 90:\n",
    "  print(\"OK\")\n",
    "else:\n",
    "  print(\"좀 더 노력하세요!\")"
   ]
  },
  {
   "cell_type": "code",
   "execution_count": 10,
   "id": "1cc9e20e",
   "metadata": {},
   "outputs": [
    {
     "name": "stdout",
     "output_type": "stream",
     "text": [
      "감염자 수 : 1500000\n",
      "매우 위험\n"
     ]
    }
   ],
   "source": [
    "numOfPatients = int(input(\"감염자 수 : \"))\n",
    "\n",
    "if numOfPatients < 1000:\n",
    "  print(\"보통\")\n",
    "elif numOfPatients >= 1000 and numOfPatients < 100000:\n",
    "  print(\"위험\")\n",
    "else:\n",
    "  print(\"매우 위험\")"
   ]
  },
  {
   "cell_type": "code",
   "execution_count": 12,
   "id": "99968df6",
   "metadata": {},
   "outputs": [
    {
     "name": "stdout",
     "output_type": "stream",
     "text": [
      "항공료(만원) : 105\n",
      "미국, 유럽 등 모든 국가\n"
     ]
    }
   ],
   "source": [
    "airFare = int(input(\"항공료(만원) : \"))\n",
    "\n",
    "if airFare < 20:\n",
    "  print(\"국내\")\n",
    "elif airFare >= 20 and airFare < 50:\n",
    "  print(\"일본, 중국, 홍콩, 괌\")\n",
    "elif airFare >= 50 and airFare < 100:\n",
    "  print(\"베트남, 대만, 인도네시아, 말레이시아\")\n",
    "else:\n",
    "  print(\"미국, 유럽 등 모든 국가\")"
   ]
  },
  {
   "cell_type": "code",
   "execution_count": 13,
   "id": "fadbe87f",
   "metadata": {},
   "outputs": [
    {
     "name": "stdout",
     "output_type": "stream",
     "text": [
      "Korean score : 95\n",
      "English score : 85\n",
      "Math score : 75\n",
      "평균 점수 : 85.0\n",
      "합격\n"
     ]
    }
   ],
   "source": [
    "scoreKorean = float(input('Korean score : '))\n",
    "scoreEnglish = float(input('English score : '))\n",
    "scoreMath = float(input('Math score : '))\n",
    "\n",
    "scoreAverage = (scoreKorean + scoreEnglish + scoreMath) / 3\n",
    "\n",
    "print(\"평균 점수 : \" + str(scoreAverage))\n",
    "\n",
    "if scoreAverage >= 80.0:\n",
    "  print(\"합격\")\n",
    "elif scoreAverage >= 70.0 and scoreAverage < 80.0:\n",
    "  print(\"재시험\")\n",
    "else:\n",
    "  print(\"불합격\")"
   ]
  },
  {
   "cell_type": "code",
   "execution_count": null,
   "id": "91a9f2b6",
   "metadata": {},
   "outputs": [],
   "source": [
    "print(\"Hello, World!\")\n",
    "print(\"Hello, World!\")\n",
    "print(\"Hello, World!\")\n",
    "print(\"Hello, World!\")\n",
    "print(\"Hello, World!\")"
   ]
  },
  {
   "cell_type": "code",
   "execution_count": 14,
   "id": "00e0cbf1",
   "metadata": {},
   "outputs": [
    {
     "name": "stdout",
     "output_type": "stream",
     "text": [
      "Hello, World!\n",
      "Hello, World!\n",
      "Hello, World!\n",
      "Hello, World!\n",
      "Hello, World!\n"
     ]
    }
   ],
   "source": [
    "for i in range(5):\n",
    "  print(\"Hello, World!\")"
   ]
  },
  {
   "cell_type": "code",
   "execution_count": 15,
   "id": "cc032cd4",
   "metadata": {},
   "outputs": [
    {
     "name": "stdout",
     "output_type": "stream",
     "text": [
      "3\n",
      "4\n",
      "5\n",
      "6\n"
     ]
    }
   ],
   "source": [
    "for i in range(3, 7):\n",
    "  print(i)"
   ]
  },
  {
   "cell_type": "code",
   "execution_count": 19,
   "id": "098a4fe6",
   "metadata": {},
   "outputs": [
    {
     "name": "stdout",
     "output_type": "stream",
     "text": [
      "1\n",
      "5\n",
      "9\n",
      "13\n",
      "17\n"
     ]
    }
   ],
   "source": [
    "for i in range(1, 20, 4):\n",
    "  print(i)"
   ]
  },
  {
   "cell_type": "code",
   "execution_count": 24,
   "id": "19c2867e",
   "metadata": {},
   "outputs": [
    {
     "name": "stdout",
     "output_type": "stream",
     "text": [
      "90\n"
     ]
    }
   ],
   "source": [
    "sum = 0\n",
    "for i in range(0, 20, 2):\n",
    "  sum += i\n",
    "print(sum)"
   ]
  },
  {
   "cell_type": "code",
   "execution_count": 27,
   "id": "cbd26ad9",
   "metadata": {},
   "outputs": [
    {
     "ename": "SyntaxError",
     "evalue": "unterminated string literal (detected at line 1) (3304257055.py, line 1)",
     "output_type": "error",
     "traceback": [
      "\u001b[1;36m  Cell \u001b[1;32mIn[27], line 1\u001b[1;36m\u001b[0m\n\u001b[1;33m    fruits = ['바나나', \"딸기', '사과', '망고']\u001b[0m\n\u001b[1;37m                     ^\u001b[0m\n\u001b[1;31mSyntaxError\u001b[0m\u001b[1;31m:\u001b[0m unterminated string literal (detected at line 1)\n"
     ]
    }
   ],
   "source": [
    "fruits = ['바나나', \"딸기', '사과', '망고']\n",
    "for i in fruits:\n",
    "  print(i)"
   ]
  },
  {
   "cell_type": "code",
   "execution_count": null,
   "id": "9318aa9a",
   "metadata": {},
   "outputs": [],
   "source": [
    "fruits = {'오렌지', '키위', '수박', '복숭아'}\n",
    "for i in fruits:\n",
    "  print(i)"
   ]
  },
  {
   "cell_type": "code",
   "execution_count": null,
   "id": "961c4cf1",
   "metadata": {},
   "outputs": [],
   "source": [
    "text = \"Hello, World!\"\n",
    "for i in text:\n",
    "  print(i)"
   ]
  },
  {
   "cell_type": "code",
   "execution_count": 28,
   "id": "12cc0718",
   "metadata": {},
   "outputs": [
    {
     "name": "stdout",
     "output_type": "stream",
     "text": [
      "0 바나나\n",
      "1 딸기\n",
      "2 사과\n",
      "3 망고\n"
     ]
    }
   ],
   "source": [
    "fruits = ['바나나', '딸기', '사과', '망고']\n",
    "for i in range(len(fruits)):\n",
    "  print(i, fruits[i])"
   ]
  },
  {
   "cell_type": "code",
   "execution_count": 110,
   "id": "5a27ff81",
   "metadata": {},
   "outputs": [
    {
     "name": "stdout",
     "output_type": "stream",
     "text": [
      "(0, '바나나')\n",
      "(1, '딸기')\n",
      "(2, '사과')\n",
      "(3, '망고')\n"
     ]
    }
   ],
   "source": [
    "fruits = ['바나나', '딸기', '사과', '망고']\n",
    "for i in enumerate(fruits): # 반복 가능한 개체의 각 항목에 카운터를 추가하고 열거형 개체를 반환합니다. Python의 열거에서 startIndex, 즉 값을 시작하려는 카운터를 지정\n",
    "  print(i)"
   ]
  },
  {
   "cell_type": "code",
   "execution_count": 105,
   "id": "eb4e51e5",
   "metadata": {},
   "outputs": [
    {
     "name": "stdout",
     "output_type": "stream",
     "text": [
      "0 바나나\n",
      "1 딸기\n",
      "2 사과\n",
      "3 망고\n"
     ]
    }
   ],
   "source": [
    "fruits = ['바나나', '딸기', '사과', '망고']\n",
    "for i, fruit in enumerate(fruits):\n",
    "  print(i, fruit)"
   ]
  },
  {
   "cell_type": "code",
   "execution_count": 106,
   "id": "10d5cbfd",
   "metadata": {},
   "outputs": [
    {
     "name": "stdout",
     "output_type": "stream",
     "text": [
      "바나나 1000\n",
      "딸기 1500\n",
      "사과 500\n",
      "망고 2000\n"
     ]
    }
   ],
   "source": [
    "fruits = {\"바나나\": 1000, \"딸기\": 1500, \"사과\": 500, \"망고\": 2000}\n",
    "for key, value in fruits.items():\n",
    "  print(key, value)"
   ]
  },
  {
   "cell_type": "code",
   "execution_count": 111,
   "id": "1b50ffc1",
   "metadata": {},
   "outputs": [
    {
     "name": "stdout",
     "output_type": "stream",
     "text": [
      "바나나 1000\n",
      "딸기 1500\n",
      "사과 500\n",
      "망고 2000\n"
     ]
    }
   ],
   "source": [
    "fruits = [\"바나나\", \"딸기\", \"사과\", \"망고\"]\n",
    "prices = [1000, 1500, 500, 2000]\n",
    "for fruit, price in zip(fruits, prices): # 여러 개의 순회 가능한(iterable) 객체를 인자로 받고, \n",
    "#각 객체가 담고 있는 원소를 튜플의 형태로 차례로 접근할 수 있는 반복자(iterator)를 반환\n",
    "  print(fruit, price)"
   ]
  },
  {
   "cell_type": "code",
   "execution_count": 39,
   "id": "2ee5aefa",
   "metadata": {},
   "outputs": [
    {
     "name": "stdout",
     "output_type": "stream",
     "text": [
      "2 *  1  =  2\n",
      "2 *  2  =  4\n",
      "2 *  3  =  6\n",
      "2 *  4  =  8\n",
      "2 *  5  =  10\n",
      "2 *  6  =  12\n",
      "2 *  7  =  14\n",
      "2 *  8  =  16\n",
      "2 *  9  =  18\n"
     ]
    }
   ],
   "source": [
    "for i in range(1, 10):\n",
    "  print(\"2 * \", i, \" = \", 2 * i)"
   ]
  },
  {
   "cell_type": "code",
   "execution_count": 40,
   "id": "f2d8bdf6",
   "metadata": {},
   "outputs": [
    {
     "name": "stdout",
     "output_type": "stream",
     "text": [
      "2  *  1  =  2\n",
      "2  *  2  =  4\n",
      "2  *  3  =  6\n",
      "2  *  4  =  8\n",
      "2  *  5  =  10\n",
      "2  *  6  =  12\n",
      "2  *  7  =  14\n",
      "2  *  8  =  16\n",
      "2  *  9  =  18\n",
      "3  *  1  =  3\n",
      "3  *  2  =  6\n",
      "3  *  3  =  9\n",
      "3  *  4  =  12\n",
      "3  *  5  =  15\n",
      "3  *  6  =  18\n",
      "3  *  7  =  21\n",
      "3  *  8  =  24\n",
      "3  *  9  =  27\n"
     ]
    }
   ],
   "source": [
    "for n in range(2, 4):\n",
    "  for m in range(1, 10):\n",
    "    print(n, \" * \", m, \" = \", n * m)"
   ]
  },
  {
   "cell_type": "code",
   "execution_count": null,
   "id": "7c0f4e95",
   "metadata": {},
   "outputs": [],
   "source": [
    "whie (True):\n",
    "  print(\"Hello, World!\")\n"
   ]
  },
  {
   "cell_type": "code",
   "execution_count": 41,
   "id": "661a760c",
   "metadata": {},
   "outputs": [
    {
     "name": "stdout",
     "output_type": "stream",
     "text": [
      "Hello, World!\n",
      "Hello, World!\n",
      "Hello, World!\n",
      "Hello, World!\n",
      "Hello, World!\n"
     ]
    }
   ],
   "source": [
    "n = 0\n",
    "while n < 5:\n",
    "  print(\"Hello, World!\")\n",
    "  n = n + 1\n"
   ]
  },
  {
   "cell_type": "code",
   "execution_count": 42,
   "id": "52541989",
   "metadata": {},
   "outputs": [
    {
     "name": "stdout",
     "output_type": "stream",
     "text": [
      "3  *  1  =  3\n",
      "3  *  2  =  6\n",
      "3  *  3  =  9\n",
      "3  *  4  =  12\n",
      "3  *  5  =  15\n",
      "3  *  6  =  18\n",
      "3  *  7  =  21\n",
      "3  *  8  =  24\n",
      "3  *  9  =  27\n"
     ]
    }
   ],
   "source": [
    "n = 3\n",
    "i = 1\n",
    "while i < 10:\n",
    "  print(n, \" * \", i, \" = \", n * i)\n",
    "  i += 1\n"
   ]
  },
  {
   "cell_type": "code",
   "execution_count": 43,
   "id": "26b3682a",
   "metadata": {},
   "outputs": [
    {
     "name": "stdout",
     "output_type": "stream",
     "text": [
      "2  *  1  =  2\n",
      "2  *  2  =  4\n",
      "2  *  3  =  6\n",
      "2  *  4  =  8\n",
      "2  *  5  =  10\n",
      "2  *  6  =  12\n",
      "2  *  7  =  14\n",
      "2  *  8  =  16\n",
      "2  *  9  =  18\n",
      "3  *  1  =  3\n",
      "3  *  2  =  6\n",
      "3  *  3  =  9\n",
      "3  *  4  =  12\n",
      "3  *  5  =  15\n",
      "3  *  6  =  18\n",
      "3  *  7  =  21\n",
      "3  *  8  =  24\n",
      "3  *  9  =  27\n"
     ]
    }
   ],
   "source": [
    "n = 2\n",
    "while n < 4:\n",
    "  i = 1\n",
    "  while i < 10:\n",
    "    print(n, \" * \", i, \" = \", n * i)\n",
    "    i += 1\n",
    "  n += 1\n"
   ]
  },
  {
   "cell_type": "code",
   "execution_count": 44,
   "id": "254afe88",
   "metadata": {},
   "outputs": [
    {
     "name": "stdout",
     "output_type": "stream",
     "text": [
      "바나나 1000 \n",
      "딸기 1500 \n",
      "사과 500 \n"
     ]
    }
   ],
   "source": [
    "fruits = [[\"바나나\", 1000], [\"딸기\", 1500], [\"사과\", 500]]\n",
    "i = 0\n",
    "while i < len(fruits):\n",
    "  j = 0\n",
    "  while j < len(fruits[i]):\n",
    "    print(fruits[i][j], end = ' ')\n",
    "    j += 1\n",
    "  print()\n",
    "  i += 1\n"
   ]
  },
  {
   "cell_type": "code",
   "execution_count": 115,
   "id": "d6bad98d",
   "metadata": {},
   "outputs": [
    {
     "name": "stdout",
     "output_type": "stream",
     "text": [
      "2\n",
      "5\n",
      "3\n",
      "1\n",
      "2\n",
      "6\n"
     ]
    }
   ],
   "source": [
    "import random\n",
    "\n",
    "i = 0\n",
    "while i != 6:\n",
    "  i = random.randint(1, 6)\n",
    "  print(i)\n"
   ]
  },
  {
   "cell_type": "code",
   "execution_count": 47,
   "id": "d2de83d0",
   "metadata": {},
   "outputs": [
    {
     "name": "stdout",
     "output_type": "stream",
     "text": [
      "3\n",
      "1\n",
      "3\n",
      "3\n",
      "3\n",
      "6\n"
     ]
    }
   ],
   "source": [
    "import random\n",
    "\n",
    "i = 0\n",
    "while i != 6:\n",
    "  i = random.randint(1, 6)\n",
    "  print(i)\n"
   ]
  },
  {
   "cell_type": "code",
   "execution_count": 116,
   "id": "4fb2973f",
   "metadata": {},
   "outputs": [
    {
     "name": "stdout",
     "output_type": "stream",
     "text": [
      "가온\n",
      "나래\n",
      "나래\n",
      "다희\n"
     ]
    }
   ],
   "source": [
    "students = [\"가온\", \"나래\", \"다희\"]\n",
    "for student in students:\n",
    "  if student == \"나래\":\n",
    "    print(student)\n",
    "  print(student)\n"
   ]
  },
  {
   "cell_type": "code",
   "execution_count": 49,
   "id": "0ab822f7",
   "metadata": {},
   "outputs": [
    {
     "name": "stdout",
     "output_type": "stream",
     "text": [
      "가온\n",
      "나래\n"
     ]
    }
   ],
   "source": [
    "students = [\"가온\", \"나래\", \"다희\"]\n",
    "for student in students:\n",
    "  if student == \"나래\":\n",
    "    print(student)\n",
    "    break\n",
    "  print(student)\n"
   ]
  },
  {
   "cell_type": "code",
   "execution_count": 50,
   "id": "1a5b2cd0",
   "metadata": {},
   "outputs": [
    {
     "name": "stdout",
     "output_type": "stream",
     "text": [
      "1 번째 손님입니다.\n",
      "2 번째 손님입니다.\n",
      "3 번째 손님입니다.\n",
      "4 번째 손님입니다.\n",
      "5 번째 손님입니다.\n",
      "6 번째 손님입니다.\n",
      "7 번째 손님입니다.\n",
      "8 번째 손님입니다.\n",
      "9 번째 손님입니다.\n",
      "10 번째 손님입니다.\n",
      "11 번째 손님입니다.\n",
      "12 번째 손님입니다.\n",
      "13 번째 손님입니다.\n",
      "14 번째 손님입니다.\n",
      "15 번째 손님입니다.\n",
      "16 번째 손님입니다.\n",
      "17 번째 손님입니다.\n",
      "18 번째 손님입니다.\n",
      "19 번째 손님입니다.\n",
      "20 번째 손님입니다.\n",
      "21 번째 손님입니다.\n",
      "22 번째 손님입니다.\n",
      "23 번째 손님입니다.\n",
      "24 번째 손님입니다.\n",
      "25 번째 손님입니다.\n",
      "26 번째 손님입니다.\n",
      "27 번째 손님입니다.\n",
      "28 번째 손님입니다.\n",
      "29 번째 손님입니다.\n",
      "30 번째 손님입니다.\n",
      "31 번째 손님입니다.\n",
      "32 번째 손님입니다.\n",
      "33 번째 손님입니다.\n",
      "34 번째 손님입니다.\n",
      "35 번째 손님입니다.\n",
      "36 번째 손님입니다.\n",
      "37 번째 손님입니다.\n",
      "38 번째 손님입니다.\n",
      "39 번째 손님입니다.\n",
      "40 번째 손님입니다.\n",
      "41 번째 손님입니다.\n",
      "42 번째 손님입니다.\n",
      "43 번째 손님입니다.\n",
      "44 번째 손님입니다.\n",
      "45 번째 손님입니다.\n",
      "46 번째 손님입니다.\n",
      "47 번째 손님입니다.\n",
      "48 번째 손님입니다.\n",
      "49 번째 손님입니다.\n",
      "50 번째 손님입니다.\n",
      "51 번째 손님입니다.\n",
      "52 번째 손님입니다.\n",
      "53 번째 손님입니다.\n",
      "54 번째 손님입니다.\n",
      "55 번째 손님입니다.\n",
      "56 번째 손님입니다.\n",
      "57 번째 손님입니다.\n",
      "58 번째 손님입니다.\n",
      "59 번째 손님입니다.\n",
      "60 번째 손님입니다.\n",
      "61 번째 손님입니다.\n",
      "62 번째 손님입니다.\n",
      "63 번째 손님입니다.\n",
      "64 번째 손님입니다.\n",
      "65 번째 손님입니다.\n",
      "66 번째 손님입니다.\n",
      "67 번째 손님입니다.\n",
      "68 번째 손님입니다.\n",
      "69 번째 손님입니다.\n",
      "70 번째 손님입니다.\n",
      "71 번째 손님입니다.\n",
      "72 번째 손님입니다.\n",
      "73 번째 손님입니다.\n",
      "74 번째 손님입니다.\n",
      "75 번째 손님입니다.\n",
      "76 번째 손님입니다.\n",
      "77 번째 손님입니다.\n",
      "78 번째 손님입니다.\n",
      "79 번째 손님입니다.\n",
      "80 번째 손님입니다.\n",
      "81 번째 손님입니다.\n",
      "82 번째 손님입니다.\n",
      "83 번째 손님입니다.\n",
      "84 번째 손님입니다.\n",
      "85 번째 손님입니다.\n",
      "86 번째 손님입니다.\n",
      "87 번째 손님입니다.\n",
      "88 번째 손님입니다.\n",
      "89 번째 손님입니다.\n",
      "90 번째 손님입니다.\n",
      "91 번째 손님입니다.\n",
      "92 번째 손님입니다.\n",
      "93 번째 손님입니다.\n",
      "94 번째 손님입니다.\n",
      "95 번째 손님입니다.\n",
      "96 번째 손님입니다.\n",
      "97 번째 손님입니다.\n",
      "98 번째 손님입니다.\n",
      "99 번째 손님입니다.\n",
      "100 번째 손님입니다.\n"
     ]
    }
   ],
   "source": [
    "count = 0\n",
    "end = 100\n",
    "while True:\n",
    "  count += 1\n",
    "  print(count, \"번째 손님입니다.\")\n",
    "  if count == end:\n",
    "    break\n"
   ]
  },
  {
   "cell_type": "code",
   "execution_count": 51,
   "id": "acd37457",
   "metadata": {},
   "outputs": [
    {
     "name": "stdout",
     "output_type": "stream",
     "text": [
      "1\n",
      "3\n",
      "5\n",
      "7\n",
      "9\n"
     ]
    }
   ],
   "source": [
    "for i in range(0, 10):\n",
    "  if i % 2 != 0:\n",
    "    print(i)\n"
   ]
  },
  {
   "cell_type": "code",
   "execution_count": 52,
   "id": "a437c0d6",
   "metadata": {},
   "outputs": [
    {
     "name": "stdout",
     "output_type": "stream",
     "text": [
      "1\n",
      "3\n",
      "5\n",
      "7\n",
      "9\n"
     ]
    }
   ],
   "source": [
    "for i in range(0, 10):\n",
    "  if i % 2 == 0:\n",
    "    continue\n",
    "  print(i)\n"
   ]
  },
  {
   "cell_type": "code",
   "execution_count": 56,
   "id": "43ba8689",
   "metadata": {},
   "outputs": [
    {
     "name": "stdout",
     "output_type": "stream",
     "text": [
      "1 홀수\n",
      "3 홀수\n",
      "5 홀수\n"
     ]
    }
   ],
   "source": [
    "for i in range(0, 6):\n",
    "  if i % 2 != 0:\n",
    "    print(i, end =\" \")\n",
    "    print(\"홀수\")\n"
   ]
  },
  {
   "cell_type": "code",
   "execution_count": 57,
   "id": "b9bd7051",
   "metadata": {},
   "outputs": [
    {
     "name": "stdout",
     "output_type": "stream",
     "text": [
      "1\n",
      "홀수\n",
      "3\n",
      "홀수\n",
      "5\n",
      "홀수\n"
     ]
    }
   ],
   "source": [
    "for i in range(0, 6):\n",
    "  if i % 2 == 0:\n",
    "    continue\n",
    "  print(i)\n",
    "  print(\"홀수\")\n"
   ]
  },
  {
   "cell_type": "code",
   "execution_count": 63,
   "id": "066311d5",
   "metadata": {},
   "outputs": [
    {
     "name": "stdout",
     "output_type": "stream",
     "text": [
      "90\n"
     ]
    }
   ],
   "source": [
    "# 예제4-4_코드\n",
    "sum = 0\n",
    "for i in range(0, 20, 2):\n",
    "  sum += i\n",
    "print(sum)\n"
   ]
  },
  {
   "cell_type": "code",
   "execution_count": 67,
   "id": "f8fe2a46",
   "metadata": {},
   "outputs": [
    {
     "name": "stdout",
     "output_type": "stream",
     "text": [
      "10\n",
      "9\n",
      "8\n",
      "7\n",
      "6\n",
      "5\n",
      "4\n",
      "3\n",
      "2\n",
      "1\n"
     ]
    }
   ],
   "source": [
    "# 예제4-5_코드\n",
    "for i in range(10, 0, -1):\n",
    "  print(i)\n"
   ]
  },
  {
   "cell_type": "code",
   "execution_count": 68,
   "id": "0dd5aff8",
   "metadata": {},
   "outputs": [
    {
     "name": "stdout",
     "output_type": "stream",
     "text": [
      "*\n",
      "**\n",
      "***\n",
      "****\n",
      "*****\n"
     ]
    }
   ],
   "source": [
    "# 예제4-6_코드\n",
    "star = \"\"\n",
    "for i in range(0, 5):\n",
    "  star += \"*\"\n",
    "  print(star)\n"
   ]
  },
  {
   "cell_type": "code",
   "execution_count": 69,
   "id": "7621c75f",
   "metadata": {},
   "outputs": [
    {
     "name": "stdout",
     "output_type": "stream",
     "text": [
      "1\n",
      "2\n",
      "3\n",
      "4\n",
      "5\n",
      "6\n",
      "7\n",
      "8\n",
      "9\n",
      "10\n"
     ]
    }
   ],
   "source": [
    "# 예제4-7_코드1\n",
    "n = 0\n",
    "while (n < 10):\n",
    "  n += 1\n",
    "  print(n)\n"
   ]
  },
  {
   "cell_type": "code",
   "execution_count": 70,
   "id": "90abb3b6",
   "metadata": {},
   "outputs": [
    {
     "name": "stdout",
     "output_type": "stream",
     "text": [
      "1\n",
      "2\n",
      "3\n",
      "4\n",
      "5\n",
      "6\n",
      "7\n",
      "8\n",
      "9\n",
      "10\n"
     ]
    }
   ],
   "source": [
    "# 예제4-7_코드2\n",
    "n = 1\n",
    "while (n <= 10):\n",
    "  print(n)\n",
    "  n += 1\n"
   ]
  },
  {
   "cell_type": "code",
   "execution_count": 71,
   "id": "90319679",
   "metadata": {},
   "outputs": [
    {
     "name": "stdout",
     "output_type": "stream",
     "text": [
      "10\n",
      "9\n",
      "8\n",
      "7\n",
      "6\n",
      "5\n",
      "4\n",
      "3\n",
      "2\n",
      "1\n"
     ]
    }
   ],
   "source": [
    "# 예제4-8_코드\n",
    "n = 10\n",
    "while n > 0:\n",
    "  print(n)\n",
    "  n = n - 1"
   ]
  },
  {
   "cell_type": "code",
   "execution_count": 74,
   "id": "eda9c13f",
   "metadata": {},
   "outputs": [
    {
     "name": "stdout",
     "output_type": "stream",
     "text": [
      "55\n"
     ]
    }
   ],
   "source": [
    "# 예제4-9_코드\n",
    "n = 0\n",
    "sum = 0\n",
    "while (n < 10):\n",
    "  n += 1\n",
    "  sum += n\n",
    "print(sum)"
   ]
  },
  {
   "cell_type": "code",
   "execution_count": 75,
   "id": "30400ab6",
   "metadata": {},
   "outputs": [
    {
     "name": "stdout",
     "output_type": "stream",
     "text": [
      "*\n",
      "**\n",
      "***\n",
      "****\n",
      "*****\n"
     ]
    }
   ],
   "source": [
    "# 예제4-10_코드\n",
    "n = 0\n",
    "star = ''\n",
    "while (n < 5):\n",
    "  n += 1\n",
    "  star += \"*\"\n",
    "  print(star)"
   ]
  },
  {
   "cell_type": "code",
   "execution_count": 120,
   "id": "2070e7e9",
   "metadata": {},
   "outputs": [
    {
     "name": "stdout",
     "output_type": "stream",
     "text": [
      "4  *  2  =  8\n",
      "3  *  8  =  24\n",
      "1  *  9  =  9\n",
      "6  *  2  =  12\n",
      "4  *  4  =  16\n",
      "8  *  7  =  56\n",
      "1  *  2  =  2\n",
      "6  *  10  =  60\n",
      "7  *  7  =  49\n",
      "3  *  2  =  6\n",
      "5  *  8  =  40\n",
      "8  *  10  =  80\n",
      "9  *  6  =  54\n",
      "3  *  1  =  3\n",
      "4  *  1  =  4\n",
      "5  *  8  =  40\n",
      "3  *  10  =  30\n",
      "9  *  9  =  81\n",
      "2  *  1  =  2\n",
      "4  *  4  =  16\n",
      "8  *  8  =  64\n",
      "7  *  9  =  63\n",
      "6  *  8  =  48\n",
      "4  *  7  =  28\n",
      "4  *  1  =  4\n",
      "6  *  1  =  6\n",
      "7  *  4  =  28\n",
      "4  *  9  =  36\n",
      "6  *  7  =  42\n",
      "1  *  2  =  2\n",
      "5  *  10  =  50\n",
      "5  *  7  =  35\n",
      "1  *  6  =  6\n",
      "2  *  9  =  18\n",
      "2  *  9  =  18\n",
      "7  *  7  =  49\n",
      "2  *  7  =  14\n",
      "3  *  2  =  6\n",
      "5  *  1  =  5\n",
      "9  *  5  =  45\n",
      "1  *  3  =  3\n",
      "5  *  7  =  35\n",
      "1  *  6  =  6\n",
      "4  *  4  =  16\n",
      "1  *  4  =  4\n",
      "9  *  2  =  18\n",
      "7  *  8  =  56\n",
      "6  *  1  =  6\n",
      "2  *  5  =  10\n",
      "4  *  9  =  36\n",
      "6  *  2  =  12\n",
      "4  *  5  =  20\n"
     ]
    }
   ],
   "source": [
    "# 예제4-11_코드\n",
    "import random\n",
    "\n",
    "n = 0\n",
    "m = 0\n",
    "while n * m != 20:\n",
    "  n = random.randint(1, 10)\n",
    "  m = random.randint(1, 10)\n",
    "  print(n, \" * \", m, \" = \", n * m)"
   ]
  },
  {
   "cell_type": "code",
   "execution_count": 124,
   "id": "62c79c92",
   "metadata": {},
   "outputs": [
    {
     "name": "stdout",
     "output_type": "stream",
     "text": [
      "3 번째 물건의 무게가  8 kg입니다.\n",
      "5 번째 물건의 무게가  18 kg입니다.\n"
     ]
    }
   ],
   "source": [
    "# 예제4-12_코드\n",
    "import random\n",
    "\n",
    "index = 0\n",
    "while 1:\n",
    "  index += 1\n",
    "  m = random.randint(8, 18)\n",
    "  if m >= 10 and m <= 15:\n",
    "    continue\n",
    "  elif m < 10:\n",
    "    print(index, \"번째 물건의 무게가 \", m, \"kg입니다.\")\n",
    "  else:\n",
    "    print(index, \"번째 물건의 무게가 \", m, \"kg입니다.\")\n",
    "    break"
   ]
  },
  {
   "cell_type": "code",
   "execution_count": 93,
   "id": "b4b52f77",
   "metadata": {},
   "outputs": [
    {
     "name": "stdout",
     "output_type": "stream",
     "text": [
      "2  *  1  =  2\n",
      "2  *  2  =  4\n",
      "2  *  3  =  6\n",
      "2  *  4  =  8\n",
      "2  *  5  =  10\n",
      "2  *  6  =  12\n",
      "2  *  7  =  14\n",
      "2  *  8  =  16\n",
      "2  *  9  =  18\n",
      "2  *  10  =  20\n",
      "2  *  11  =  22\n",
      "2  *  12  =  24\n",
      "2  *  13  =  26\n",
      "2  *  14  =  28\n",
      "2  *  15  =  30\n",
      "2  *  16  =  32\n",
      "2  *  17  =  34\n",
      "2  *  18  =  36\n",
      "2  *  19  =  38\n",
      "3  *  1  =  3\n",
      "3  *  2  =  6\n",
      "3  *  3  =  9\n",
      "3  *  4  =  12\n",
      "3  *  5  =  15\n",
      "3  *  6  =  18\n",
      "3  *  7  =  21\n",
      "3  *  8  =  24\n",
      "3  *  9  =  27\n",
      "3  *  10  =  30\n",
      "3  *  11  =  33\n",
      "3  *  12  =  36\n",
      "3  *  13  =  39\n",
      "3  *  14  =  42\n",
      "3  *  15  =  45\n",
      "3  *  16  =  48\n",
      "3  *  17  =  51\n",
      "3  *  18  =  54\n",
      "3  *  19  =  57\n",
      "4  *  1  =  4\n",
      "4  *  2  =  8\n",
      "4  *  3  =  12\n",
      "4  *  4  =  16\n",
      "4  *  5  =  20\n",
      "4  *  6  =  24\n",
      "4  *  7  =  28\n",
      "4  *  8  =  32\n",
      "4  *  9  =  36\n",
      "4  *  10  =  40\n",
      "4  *  11  =  44\n",
      "4  *  12  =  48\n",
      "4  *  13  =  52\n",
      "4  *  14  =  56\n",
      "4  *  15  =  60\n",
      "4  *  16  =  64\n",
      "4  *  17  =  68\n",
      "4  *  18  =  72\n",
      "4  *  19  =  76\n",
      "5  *  1  =  5\n",
      "5  *  2  =  10\n",
      "5  *  3  =  15\n",
      "5  *  4  =  20\n",
      "5  *  5  =  25\n",
      "5  *  6  =  30\n",
      "5  *  7  =  35\n",
      "5  *  8  =  40\n",
      "5  *  9  =  45\n",
      "5  *  10  =  50\n",
      "5  *  11  =  55\n",
      "5  *  12  =  60\n",
      "5  *  13  =  65\n",
      "5  *  14  =  70\n",
      "5  *  15  =  75\n",
      "5  *  16  =  80\n",
      "5  *  17  =  85\n",
      "5  *  18  =  90\n",
      "5  *  19  =  95\n",
      "6  *  1  =  6\n",
      "6  *  2  =  12\n",
      "6  *  3  =  18\n",
      "6  *  4  =  24\n",
      "6  *  5  =  30\n",
      "6  *  6  =  36\n",
      "6  *  7  =  42\n",
      "6  *  8  =  48\n",
      "6  *  9  =  54\n",
      "6  *  10  =  60\n",
      "6  *  11  =  66\n",
      "6  *  12  =  72\n",
      "6  *  13  =  78\n",
      "6  *  14  =  84\n",
      "6  *  15  =  90\n",
      "6  *  16  =  96\n",
      "6  *  17  =  102\n",
      "6  *  18  =  108\n",
      "6  *  19  =  114\n",
      "7  *  1  =  7\n",
      "7  *  2  =  14\n",
      "7  *  3  =  21\n",
      "7  *  4  =  28\n",
      "7  *  5  =  35\n",
      "7  *  6  =  42\n",
      "7  *  7  =  49\n",
      "7  *  8  =  56\n",
      "7  *  9  =  63\n",
      "7  *  10  =  70\n",
      "7  *  11  =  77\n",
      "7  *  12  =  84\n",
      "7  *  13  =  91\n",
      "7  *  14  =  98\n",
      "7  *  15  =  105\n",
      "7  *  16  =  112\n",
      "7  *  17  =  119\n",
      "7  *  18  =  126\n",
      "7  *  19  =  133\n",
      "8  *  1  =  8\n",
      "8  *  2  =  16\n",
      "8  *  3  =  24\n",
      "8  *  4  =  32\n",
      "8  *  5  =  40\n",
      "8  *  6  =  48\n",
      "8  *  7  =  56\n",
      "8  *  8  =  64\n",
      "8  *  9  =  72\n",
      "8  *  10  =  80\n",
      "8  *  11  =  88\n",
      "8  *  12  =  96\n",
      "8  *  13  =  104\n",
      "8  *  14  =  112\n",
      "8  *  15  =  120\n",
      "8  *  16  =  128\n",
      "8  *  17  =  136\n",
      "8  *  18  =  144\n",
      "8  *  19  =  152\n",
      "9  *  1  =  9\n",
      "9  *  2  =  18\n",
      "9  *  3  =  27\n",
      "9  *  4  =  36\n",
      "9  *  5  =  45\n",
      "9  *  6  =  54\n",
      "9  *  7  =  63\n",
      "9  *  8  =  72\n",
      "9  *  9  =  81\n",
      "9  *  10  =  90\n",
      "9  *  11  =  99\n",
      "9  *  12  =  108\n",
      "9  *  13  =  117\n",
      "9  *  14  =  126\n",
      "9  *  15  =  135\n",
      "9  *  16  =  144\n",
      "9  *  17  =  153\n",
      "9  *  18  =  162\n",
      "9  *  19  =  171\n",
      "10  *  1  =  10\n",
      "10  *  2  =  20\n",
      "10  *  3  =  30\n",
      "10  *  4  =  40\n",
      "10  *  5  =  50\n",
      "10  *  6  =  60\n",
      "10  *  7  =  70\n",
      "10  *  8  =  80\n",
      "10  *  9  =  90\n",
      "10  *  10  =  100\n",
      "10  *  11  =  110\n",
      "10  *  12  =  120\n",
      "10  *  13  =  130\n",
      "10  *  14  =  140\n",
      "10  *  15  =  150\n",
      "10  *  16  =  160\n",
      "10  *  17  =  170\n",
      "10  *  18  =  180\n",
      "10  *  19  =  190\n",
      "11  *  1  =  11\n",
      "11  *  2  =  22\n",
      "11  *  3  =  33\n",
      "11  *  4  =  44\n",
      "11  *  5  =  55\n",
      "11  *  6  =  66\n",
      "11  *  7  =  77\n",
      "11  *  8  =  88\n",
      "11  *  9  =  99\n",
      "11  *  10  =  110\n",
      "11  *  11  =  121\n",
      "11  *  12  =  132\n",
      "11  *  13  =  143\n",
      "11  *  14  =  154\n",
      "11  *  15  =  165\n",
      "11  *  16  =  176\n",
      "11  *  17  =  187\n",
      "11  *  18  =  198\n",
      "11  *  19  =  209\n",
      "12  *  1  =  12\n",
      "12  *  2  =  24\n",
      "12  *  3  =  36\n",
      "12  *  4  =  48\n",
      "12  *  5  =  60\n",
      "12  *  6  =  72\n",
      "12  *  7  =  84\n",
      "12  *  8  =  96\n",
      "12  *  9  =  108\n",
      "12  *  10  =  120\n",
      "12  *  11  =  132\n",
      "12  *  12  =  144\n",
      "12  *  13  =  156\n",
      "12  *  14  =  168\n",
      "12  *  15  =  180\n",
      "12  *  16  =  192\n",
      "12  *  17  =  204\n",
      "12  *  18  =  216\n",
      "12  *  19  =  228\n",
      "13  *  1  =  13\n",
      "13  *  2  =  26\n",
      "13  *  3  =  39\n",
      "13  *  4  =  52\n",
      "13  *  5  =  65\n",
      "13  *  6  =  78\n",
      "13  *  7  =  91\n",
      "13  *  8  =  104\n",
      "13  *  9  =  117\n",
      "13  *  10  =  130\n",
      "13  *  11  =  143\n",
      "13  *  12  =  156\n",
      "13  *  13  =  169\n",
      "13  *  14  =  182\n",
      "13  *  15  =  195\n",
      "13  *  16  =  208\n",
      "13  *  17  =  221\n",
      "13  *  18  =  234\n",
      "13  *  19  =  247\n",
      "14  *  1  =  14\n",
      "14  *  2  =  28\n",
      "14  *  3  =  42\n",
      "14  *  4  =  56\n",
      "14  *  5  =  70\n",
      "14  *  6  =  84\n",
      "14  *  7  =  98\n",
      "14  *  8  =  112\n",
      "14  *  9  =  126\n",
      "14  *  10  =  140\n",
      "14  *  11  =  154\n",
      "14  *  12  =  168\n",
      "14  *  13  =  182\n",
      "14  *  14  =  196\n",
      "14  *  15  =  210\n",
      "14  *  16  =  224\n",
      "14  *  17  =  238\n",
      "14  *  18  =  252\n",
      "14  *  19  =  266\n",
      "15  *  1  =  15\n",
      "15  *  2  =  30\n",
      "15  *  3  =  45\n",
      "15  *  4  =  60\n",
      "15  *  5  =  75\n",
      "15  *  6  =  90\n",
      "15  *  7  =  105\n",
      "15  *  8  =  120\n",
      "15  *  9  =  135\n",
      "15  *  10  =  150\n",
      "15  *  11  =  165\n",
      "15  *  12  =  180\n",
      "15  *  13  =  195\n",
      "15  *  14  =  210\n",
      "15  *  15  =  225\n",
      "15  *  16  =  240\n",
      "15  *  17  =  255\n",
      "15  *  18  =  270\n",
      "15  *  19  =  285\n",
      "16  *  1  =  16\n",
      "16  *  2  =  32\n",
      "16  *  3  =  48\n",
      "16  *  4  =  64\n",
      "16  *  5  =  80\n",
      "16  *  6  =  96\n",
      "16  *  7  =  112\n",
      "16  *  8  =  128\n",
      "16  *  9  =  144\n",
      "16  *  10  =  160\n",
      "16  *  11  =  176\n",
      "16  *  12  =  192\n",
      "16  *  13  =  208\n",
      "16  *  14  =  224\n",
      "16  *  15  =  240\n",
      "16  *  16  =  256\n",
      "16  *  17  =  272\n",
      "16  *  18  =  288\n",
      "16  *  19  =  304\n",
      "17  *  1  =  17\n",
      "17  *  2  =  34\n",
      "17  *  3  =  51\n",
      "17  *  4  =  68\n",
      "17  *  5  =  85\n",
      "17  *  6  =  102\n",
      "17  *  7  =  119\n",
      "17  *  8  =  136\n",
      "17  *  9  =  153\n",
      "17  *  10  =  170\n",
      "17  *  11  =  187\n",
      "17  *  12  =  204\n",
      "17  *  13  =  221\n",
      "17  *  14  =  238\n",
      "17  *  15  =  255\n",
      "17  *  16  =  272\n",
      "17  *  17  =  289\n",
      "17  *  18  =  306\n",
      "17  *  19  =  323\n",
      "18  *  1  =  18\n",
      "18  *  2  =  36\n",
      "18  *  3  =  54\n",
      "18  *  4  =  72\n",
      "18  *  5  =  90\n",
      "18  *  6  =  108\n",
      "18  *  7  =  126\n",
      "18  *  8  =  144\n",
      "18  *  9  =  162\n",
      "18  *  10  =  180\n",
      "18  *  11  =  198\n",
      "18  *  12  =  216\n",
      "18  *  13  =  234\n",
      "18  *  14  =  252\n",
      "18  *  15  =  270\n",
      "18  *  16  =  288\n",
      "18  *  17  =  306\n",
      "18  *  18  =  324\n",
      "18  *  19  =  342\n",
      "19  *  1  =  19\n",
      "19  *  2  =  38\n",
      "19  *  3  =  57\n",
      "19  *  4  =  76\n",
      "19  *  5  =  95\n",
      "19  *  6  =  114\n",
      "19  *  7  =  133\n",
      "19  *  8  =  152\n",
      "19  *  9  =  171\n",
      "19  *  10  =  190\n",
      "19  *  11  =  209\n",
      "19  *  12  =  228\n",
      "19  *  13  =  247\n",
      "19  *  14  =  266\n",
      "19  *  15  =  285\n",
      "19  *  16  =  304\n",
      "19  *  17  =  323\n",
      "19  *  18  =  342\n",
      "19  *  19  =  361\n"
     ]
    }
   ],
   "source": [
    "# 예제4-13_코드\n",
    "for n in range(2, 20):\n",
    "  for m in range(1, 20):\n",
    "    print(n, \" * \", m, \" = \", n * m)"
   ]
  },
  {
   "cell_type": "code",
   "execution_count": 103,
   "id": "7cc08fbc",
   "metadata": {},
   "outputs": [
    {
     "name": "stdout",
     "output_type": "stream",
     "text": [
      "Precipitation Probability : 55\n",
      "Take your umbrella\n"
     ]
    }
   ],
   "source": [
    "# 예제4-14_코드\n",
    "prob = float(input(\"Precipitation Probability : \")) # 강수확률\n",
    "\n",
    "if prob >= 50.0:\n",
    "  print(\"Take your umbrella\")\n",
    "else:\n",
    "  print(\"No need to take an umbrella\")"
   ]
  },
  {
   "cell_type": "code",
   "execution_count": 99,
   "id": "ab69a1fb",
   "metadata": {},
   "outputs": [
    {
     "name": "stdout",
     "output_type": "stream",
     "text": [
      "Input value for X : 10.0\n",
      "Input value for Y : 21.2\n",
      "y is greater than x, y = 21.2\n"
     ]
    }
   ],
   "source": [
    "# 예제4-15_코드\n",
    "x = float(input(\"Input value for X : \"))\n",
    "y = float(input(\"Input value for Y : \"))\n",
    "\n",
    "if x > y:\n",
    "  print(\"x is greater than y, x = \" + str(x))\n",
    "elif y > x:\n",
    "  print(\"y is greater than x, y = \" + str(y))\n",
    "else:\n",
    "  print(\"x and y are the same\")"
   ]
  },
  {
   "cell_type": "code",
   "execution_count": 100,
   "id": "04f5a36b",
   "metadata": {},
   "outputs": [
    {
     "name": "stdout",
     "output_type": "stream",
     "text": [
      "*\n",
      " *\n",
      "  *\n",
      "   *\n",
      "    *\n"
     ]
    }
   ],
   "source": [
    "# 예제4-16_코드1\n",
    "for i in range(5):\n",
    "  for j in range(5):\n",
    "    if i == j:\n",
    "      print(\"*\")\n",
    "      break\n",
    "    else:\n",
    "      print(\" \", end = \"\")"
   ]
  },
  {
   "cell_type": "code",
   "execution_count": 101,
   "id": "a12bcc23",
   "metadata": {},
   "outputs": [
    {
     "name": "stdout",
     "output_type": "stream",
     "text": [
      "*****\n",
      " ****\n",
      "  ***\n",
      "   **\n",
      "    *\n"
     ]
    }
   ],
   "source": [
    "# 예제4-16_코드2\n",
    "for i in range(5):\n",
    "  for j in range(i):\n",
    "    print(\" \", end = \"\")\n",
    "  for j in range(5 - i):\n",
    "    print(\"*\", end = \"\")\n",
    "  print()"
   ]
  },
  {
   "cell_type": "code",
   "execution_count": 102,
   "id": "79f0a031",
   "metadata": {},
   "outputs": [
    {
     "name": "stdout",
     "output_type": "stream",
     "text": [
      "    *\n",
      "   ***\n",
      "  *****\n",
      " *******\n",
      "*********\n"
     ]
    }
   ],
   "source": [
    "# 예제4-16_코드3\n",
    "for i in range(1, 6):\n",
    "  for j in range(5 - i):\n",
    "    print(\" \", end = \"\")\n",
    "  for j in range(1, i * 2):\n",
    "    print(\"*\", end = \"\")\n",
    "  print()"
   ]
  },
  {
   "cell_type": "code",
   "execution_count": null,
   "id": "25c2ddd2",
   "metadata": {},
   "outputs": [],
   "source": []
  }
 ],
 "metadata": {
  "kernelspec": {
   "display_name": "Python 3 (ipykernel)",
   "language": "python",
   "name": "python3"
  },
  "language_info": {
   "codemirror_mode": {
    "name": "ipython",
    "version": 3
   },
   "file_extension": ".py",
   "mimetype": "text/x-python",
   "name": "python",
   "nbconvert_exporter": "python",
   "pygments_lexer": "ipython3",
   "version": "3.10.9"
  }
 },
 "nbformat": 4,
 "nbformat_minor": 5
}
